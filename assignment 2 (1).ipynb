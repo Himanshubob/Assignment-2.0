{
 "cells": [
  {
   "cell_type": "markdown",
   "id": "37734b9f",
   "metadata": {},
   "source": [
    "# Q1...(a)\n"
   ]
  },
  {
   "cell_type": "markdown",
   "id": "e793caae",
   "metadata": {},
   "source": [
    "# which keyword is usesd to creat a function"
   ]
  },
  {
   "cell_type": "markdown",
   "id": "b796b376",
   "metadata": {},
   "source": [
    "#  used for (def ) key word\n"
   ]
  },
  {
   "cell_type": "markdown",
   "id": "2d037d3a",
   "metadata": {},
   "source": [
    "# (b)"
   ]
  },
  {
   "cell_type": "code",
   "execution_count": 7,
   "id": "b3a13f5c",
   "metadata": {},
   "outputs": [],
   "source": [
    "def oddnumber(n):\n",
    "    a=0\n",
    "    for i in range(n):\n",
    "        yield a\n",
    "        \n",
    "        a+=1"
   ]
  },
  {
   "cell_type": "code",
   "execution_count": 11,
   "id": "1d8acd14",
   "metadata": {},
   "outputs": [
    {
     "name": "stdout",
     "output_type": "stream",
     "text": [
      "False 0\n",
      "True 1\n",
      "False 2\n",
      "True 3\n",
      "False 4\n",
      "True 5\n",
      "False 6\n",
      "True 7\n",
      "False 8\n",
      "True 9\n",
      "False 10\n",
      "True 11\n",
      "False 12\n",
      "True 13\n",
      "False 14\n",
      "True 15\n",
      "False 16\n",
      "True 17\n",
      "False 18\n",
      "True 19\n",
      "False 20\n",
      "True 21\n",
      "False 22\n",
      "True 23\n",
      "False 24\n"
     ]
    }
   ],
   "source": [
    "for i in oddnumber(25):\n",
    "    print(i%2!=0,i)"
   ]
  },
  {
   "cell_type": "markdown",
   "id": "2001ac72",
   "metadata": {},
   "source": [
    "# Q2..(a)\n"
   ]
  },
  {
   "cell_type": "markdown",
   "id": "259d9f8e",
   "metadata": {},
   "source": [
    "# why *arge and **kwargs is used in some functions?"
   ]
  },
  {
   "cell_type": "markdown",
   "id": "0f17d3f5",
   "metadata": {},
   "source": [
    "# # *arge = used for multiple input on user \n",
    "## **kwargs = used for  created by dictionary"
   ]
  },
  {
   "cell_type": "markdown",
   "id": "b5762546",
   "metadata": {},
   "source": [
    "# (b)\n"
   ]
  },
  {
   "cell_type": "code",
   "execution_count": 35,
   "id": "eb405798",
   "metadata": {},
   "outputs": [],
   "source": [
    "def name(*arge):\n",
    "    return arge"
   ]
  },
  {
   "cell_type": "code",
   "execution_count": 36,
   "id": "162160fd",
   "metadata": {},
   "outputs": [
    {
     "data": {
      "text/plain": [
       "(1, 3, 4, 5, 6, 7)"
      ]
     },
     "execution_count": 36,
     "metadata": {},
     "output_type": "execute_result"
    }
   ],
   "source": [
    "name(1,3,4,5,6,7)"
   ]
  },
  {
   "cell_type": "code",
   "execution_count": 37,
   "id": "a2d68be0",
   "metadata": {},
   "outputs": [],
   "source": [
    "def dictionary(**kwargs):\n",
    "    return kwargs"
   ]
  },
  {
   "cell_type": "code",
   "execution_count": 42,
   "id": "bf9cba2a",
   "metadata": {},
   "outputs": [
    {
     "data": {
      "text/plain": [
       "{'name': 'himanhu', 'cla': 'm.cs', 'subject': 'mathe & state'}"
      ]
     },
     "execution_count": 42,
     "metadata": {},
     "output_type": "execute_result"
    }
   ],
   "source": [
    "dictionary(name=\"himanhu\",cla=\"m.cs\",subject=\"mathe & state\")"
   ]
  },
  {
   "cell_type": "markdown",
   "id": "43b9c2d4",
   "metadata": {},
   "source": [
    "# Q4...\n"
   ]
  },
  {
   "cell_type": "code",
   "execution_count": 12,
   "id": "77f710c3",
   "metadata": {},
   "outputs": [
    {
     "data": {
      "text/plain": [
       "' meanig  work same hai par ye value of stor nhi karta hai ye  shide print kar deta hai'"
      ]
     },
     "execution_count": 12,
     "metadata": {},
     "output_type": "execute_result"
    }
   ],
   "source": [
    "# what is a generator function ?\n",
    "\n",
    "'''Generator-Function: A generator-function is defined like a normal function,\n",
    "but whenever it needs to generate a value, it does so with the yield keyword rather than return\n",
    "'''\n",
    "\n",
    "\"\"\" meanig  work same hai par ye value of stor nhi karta hai ye  shide print kar deta hai\"\"\""
   ]
  },
  {
   "cell_type": "code",
   "execution_count": 14,
   "id": "a14746bf",
   "metadata": {},
   "outputs": [],
   "source": [
    "#why yield keyword is uesd?\n",
    " # yield= cerrate the generator function\n",
    "    "
   ]
  },
  {
   "cell_type": "code",
   "execution_count": 15,
   "id": "624110d1",
   "metadata": {},
   "outputs": [],
   "source": [
    "def count(n):\n",
    "    \"\"\" print the counting\"\"\"\n",
    "    a=0\n",
    "    for i in range(n):\n",
    "        yield a\n",
    "        a+=1\n",
    "        \n",
    "        "
   ]
  },
  {
   "cell_type": "code",
   "execution_count": 16,
   "id": "fd36a032",
   "metadata": {},
   "outputs": [
    {
     "name": "stdout",
     "output_type": "stream",
     "text": [
      "0\n",
      "1\n",
      "2\n",
      "3\n",
      "4\n",
      "5\n",
      "6\n",
      "7\n",
      "8\n",
      "9\n"
     ]
    }
   ],
   "source": [
    "for i in count(10):\n",
    "    print(i)"
   ]
  },
  {
   "cell_type": "markdown",
   "id": "53cafa2c",
   "metadata": {},
   "source": [
    "# Q6...."
   ]
  },
  {
   "cell_type": "code",
   "execution_count": 2,
   "id": "80522e0a",
   "metadata": {},
   "outputs": [
    {
     "name": "stdout",
     "output_type": "stream",
     "text": [
      "enter the number is :10\n",
      "0\n",
      "1\n",
      "1\n",
      "2\n",
      "3\n",
      "5\n",
      "8\n",
      "13\n",
      "21\n",
      "34\n",
      "55\n"
     ]
    }
   ],
   "source": [
    "m=eval(input(\"enter the number is :\"))\n",
    "a,b=0,1\n",
    "i=0\n",
    "while i<=m:\n",
    "    print(a)\n",
    "    c=a+b\n",
    "    a=b\n",
    "    b=c\n",
    "    i+=1\n",
    "\n",
    "    "
   ]
  },
  {
   "cell_type": "markdown",
   "id": "46577852",
   "metadata": {},
   "source": [
    "# Q5..."
   ]
  },
  {
   "cell_type": "code",
   "execution_count": 36,
   "id": "6cbb935e",
   "metadata": {},
   "outputs": [],
   "source": [
    "\n",
    "def prime(m):\n",
    "    for i in range(m):\n",
    "        yield m\n",
    "        m=m+1\n",
    "        \n",
    "        if ( m%2==0):\n",
    "            print( \" it is not prime number\")\n",
    "        else:\n",
    "            print(\" it is prime number:\")\n",
    "        \n"
   ]
  },
  {
   "cell_type": "code",
   "execution_count": 37,
   "id": "6114a26d",
   "metadata": {},
   "outputs": [
    {
     "name": "stdout",
     "output_type": "stream",
     "text": [
      "10\n",
      " it is prime number:\n",
      "11\n",
      " it is not prime number\n",
      "12\n",
      " it is prime number:\n",
      "13\n",
      " it is not prime number\n",
      "14\n",
      " it is prime number:\n",
      "15\n",
      " it is not prime number\n",
      "16\n",
      " it is prime number:\n",
      "17\n",
      " it is not prime number\n",
      "18\n",
      " it is prime number:\n",
      "19\n",
      " it is not prime number\n"
     ]
    }
   ],
   "source": [
    "for i in prime(10):\n",
    "    print(i)\n"
   ]
  },
  {
   "cell_type": "markdown",
   "id": "6be5b9f0",
   "metadata": {},
   "source": [
    "# Q7..."
   ]
  },
  {
   "cell_type": "code",
   "execution_count": 52,
   "id": "8a333337",
   "metadata": {},
   "outputs": [],
   "source": [
    "l='pwskills'"
   ]
  },
  {
   "cell_type": "code",
   "execution_count": 53,
   "id": "a63d7e4b",
   "metadata": {},
   "outputs": [
    {
     "data": {
      "text/plain": [
       "['p', 'w', 's', 'k', 'i', 'l', 'l', 's']"
      ]
     },
     "execution_count": 53,
     "metadata": {},
     "output_type": "execute_result"
    }
   ],
   "source": [
    "[i  for i in l]"
   ]
  },
  {
   "cell_type": "markdown",
   "id": "aa4e99e1",
   "metadata": {},
   "source": [
    "# Q9..."
   ]
  },
  {
   "cell_type": "code",
   "execution_count": 5,
   "id": "ad8f2c10",
   "metadata": {},
   "outputs": [
    {
     "data": {
      "text/plain": [
       "[1,\n",
       " 3,\n",
       " 5,\n",
       " 7,\n",
       " 9,\n",
       " 11,\n",
       " 13,\n",
       " 15,\n",
       " 17,\n",
       " 19,\n",
       " 21,\n",
       " 23,\n",
       " 25,\n",
       " 27,\n",
       " 29,\n",
       " 31,\n",
       " 33,\n",
       " 35,\n",
       " 37,\n",
       " 39,\n",
       " 41,\n",
       " 43,\n",
       " 45,\n",
       " 47,\n",
       " 49,\n",
       " 51,\n",
       " 53,\n",
       " 55,\n",
       " 57,\n",
       " 59,\n",
       " 61,\n",
       " 63,\n",
       " 65,\n",
       " 67,\n",
       " 69,\n",
       " 71,\n",
       " 73,\n",
       " 75,\n",
       " 77,\n",
       " 79,\n",
       " 81,\n",
       " 83,\n",
       " 85,\n",
       " 87,\n",
       " 89,\n",
       " 91,\n",
       " 93,\n",
       " 95,\n",
       " 97,\n",
       " 99]"
      ]
     },
     "execution_count": 5,
     "metadata": {},
     "output_type": "execute_result"
    }
   ],
   "source": [
    "[i for i in range(1,100) if i%2 !=0]"
   ]
  },
  {
   "cell_type": "markdown",
   "id": "68c211d7",
   "metadata": {},
   "source": [
    "# Q8...."
   ]
  },
  {
   "cell_type": "code",
   "execution_count": 6,
   "id": "5dac5c9a",
   "metadata": {},
   "outputs": [],
   "source": [
    "#palindrome\n"
   ]
  },
  {
   "cell_type": "code",
   "execution_count": null,
   "id": "8681cc1c",
   "metadata": {},
   "outputs": [],
   "source": []
  },
  {
   "cell_type": "code",
   "execution_count": null,
   "id": "3f3fd8c5",
   "metadata": {},
   "outputs": [],
   "source": []
  }
 ],
 "metadata": {
  "kernelspec": {
   "display_name": "Python 3 (ipykernel)",
   "language": "python",
   "name": "python3"
  },
  "language_info": {
   "codemirror_mode": {
    "name": "ipython",
    "version": 3
   },
   "file_extension": ".py",
   "mimetype": "text/x-python",
   "name": "python",
   "nbconvert_exporter": "python",
   "pygments_lexer": "ipython3",
   "version": "3.10.9"
  }
 },
 "nbformat": 4,
 "nbformat_minor": 5
}
